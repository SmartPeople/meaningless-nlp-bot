{
 "cells": [
  {
   "cell_type": "markdown",
   "metadata": {},
   "source": [
    "https://pypi.python.org/pypi/sumy\n",
    "\n",
    "`pip install git+git://github.com/miso-belica/sumy.git`"
   ]
  },
  {
   "cell_type": "code",
   "execution_count": 3,
   "metadata": {},
   "outputs": [
    {
     "name": "stdout",
     "output_type": "stream",
     "text": [
      "Lack of type-safety in the Akka actor programming model has been lamented for a long time.\n",
      "Lately, we have focused our work on Akka Typed in an attempt to bring type-safety to the world of actors.\n",
      "In a series of blog posts we will show the new API and give a gentle introduction to Akka Typed for those of you that are already familiar with classic untyped actors.\n",
      "Personally I’m most concerned about the former shortcoming, I think the readablity/browsability aspect when navigating an unknown Akka code base can be problematic.\n",
      "remote messaging receptionist pattern (a typed replacement for actorSelection ) persistence integration with other modules, such as Streams, Cluster, Distributed Data the process DSL logging API performance optimizations\n",
      "Some of the above limitations can probably be worked around by using the integration with untyped actors, but these things will of course be implemented.\n",
      "It’s our goal to make Akka Typed a full-featured replacement of the existing untyped actors.\n",
      "Let’s start with a plain classic Hello World actor and then look at how that can be implemented with Akka Typed.\n",
      "Typed actors can return Actor.unhandled to indicate that a message can’t be handled, e.g. because it’s invalid in current state.\n",
      "The factory function in deferred pass the ActorContext as parameter and that can for example be used for spawning child actors.\n"
     ]
    }
   ],
   "source": [
    "from sumy.parsers.html import HtmlParser\n",
    "from sumy.nlp.tokenizers import Tokenizer\n",
    "from sumy.summarizers.lsa import LsaSummarizer as Summarizer\n",
    "from sumy.nlp.stemmers import Stemmer\n",
    "from sumy.utils import get_stop_words\n",
    "\n",
    "\n",
    "def summarize(url, num_sentences=10, language='english'):\n",
    "    parser = HtmlParser.from_url(url, Tokenizer(language))\n",
    "    stemmer = Stemmer(language)\n",
    "    summarizer = Summarizer(stemmer)\n",
    "    summarizer.stop_words = get_stop_words(language)\n",
    "    for sentence in summarizer(parser.document, num_sentences):\n",
    "        print(sentence)\n",
    "\n",
    "\n",
    "summarize('http://blog.akka.io/typed/2017/05/05/typed-intro', 10)"
   ]
  },
  {
   "cell_type": "code",
   "execution_count": 4,
   "metadata": {},
   "outputs": [
    {
     "name": "stdout",
     "output_type": "stream",
     "text": [
      "In a series of blog posts we will show the new API and give a gentle introduction to Akka Typed for those of you that are already familiar with classic untyped actors.\n",
      "Personally I’m most concerned about the former shortcoming, I think the readablity/browsability aspect when navigating an unknown Akka code base can be problematic.\n",
      "remote messaging receptionist pattern (a typed replacement for actorSelection ) persistence integration with other modules, such as Streams, Cluster, Distributed Data the process DSL logging API performance optimizations\n",
      "Let’s start with a plain classic Hello World actor and then look at how that can be implemented with Akka Typed.\n",
      "The factory function in deferred pass the ActorContext as parameter and that can for example be used for spawning child actors.\n"
     ]
    }
   ],
   "source": [
    "summarize('http://blog.akka.io/typed/2017/05/05/typed-intro', 5)"
   ]
  }
 ],
 "metadata": {
  "kernelspec": {
   "display_name": "Python 3",
   "language": "python",
   "name": "python3"
  },
  "language_info": {
   "codemirror_mode": {
    "name": "ipython",
    "version": 3
   },
   "file_extension": ".py",
   "mimetype": "text/x-python",
   "name": "python",
   "nbconvert_exporter": "python",
   "pygments_lexer": "ipython3",
   "version": "3.5.3"
  }
 },
 "nbformat": 4,
 "nbformat_minor": 2
}
