{
 "cells": [
  {
   "cell_type": "markdown",
   "metadata": {},
   "source": [
    "Interfacing Fortran with OCaml\n",
    "\n",
    "While OCaml is still one of the best overall programming languages, it is syntactically slightly inconvenient and gets a bit slow for tight numerical routines, especially if they are written in a functional style. Written in imperative style, compiled Ocaml numerical code usually is 2-3 times slower than single-core C,C or Fortran, and therefore usable and much faster than Python or Cython, but optimized, CPU-tuned Fortran can be faster and uses less memory. Fortran, with its native support for arrays of any reasonable rank, built-in bounds checking, vectorized operations and rich intrinsics remains the best programming language for such code. But it remains cumbersome as a general-purpose or systems programming language.\n",
    "\n",
    "Using CTypes it is possible to easily call Fortran routines from OCaml, provided a few compilation and linking tricks described here are known. This combination of OCaml and Fortran provides, in my opinion, the best small-to-medium scale platform for production-quality scientific computing.\n",
    "\n",
    "While writing OCaml bindings to call C isn't too hard, it's easy to make mistakes and it's a repetitive procedure. If one wants to call Fortran code, then one would have to write C stub code to be called from OCaml, that would call Fortran. This is three languages to deal with, which becomes annoying. Using CTypes we don't have to write any stub code.\n",
    "\n",
    "This approach can also be used to get access to LAPACK routines for which Lacaml bindings are not availble, such as dgglse. This goes into a file called accel.f90 .\n",
    "\n",
    "The min_dist(m,a,d_min,i_min) function takes as inputs the number of points m , the coordinate array a which must have m rows and 3 columns. Note that we have used iso_fortran_env to get the proper Fortran real kind c_double that matches C doubles and therefore the Bigarray float64 kind. As outputs it puts the minimum distance into d_min and the row numbers of a pair of points having that minimum distance in i_min . It does not make use of the norm2 Fortran intrinsics.\n",
    "\n",
    "Since Fortran, by default, passes everything by reference, you have to use the attribute value on arguments unless you want to box and debox them from your little OCaml wrapper."
   ]
  },
  {
   "cell_type": "code",
   "execution_count": 4,
   "metadata": {
    "collapsed": true
   },
   "outputs": [],
   "source": [
    "from gensim.summarization import *\n",
    "\n",
    "\n",
    "text = \"\"\n",
    "#Interfacing Fortran with OCaml\n",
    "#http://lambda-diode.com/software/ocaml/scientific/fortran\n",
    "with open(\"./data/Interfacing_Fortran_with_OCaml.txt\", 'r') as f:\n",
    "    text = f.read()"
   ]
  },
  {
   "cell_type": "markdown",
   "metadata": {},
   "source": [
    "Ignore Anaconda warnings"
   ]
  },
  {
   "cell_type": "code",
   "execution_count": 5,
   "metadata": {
    "collapsed": true
   },
   "outputs": [],
   "source": [
    "import warnings\n",
    "warnings.filterwarnings('ignore')"
   ]
  },
  {
   "cell_type": "code",
   "execution_count": 6,
   "metadata": {},
   "outputs": [
    {
     "name": "stdout",
     "output_type": "stream",
     "text": [
      "While OCaml is still one of the best overall programming languages, it is syntactically slightly inconvenient and gets a bit slow for tight numerical routines, especially if they are written in a functional style.\n",
      "Written in imperative style, compiled Ocaml numerical code usually is 2-3 times slower than single-core C,C or Fortran, and therefore usable and much faster than Python or Cython, but optimized, CPU-tuned Fortran can be faster and uses less memory.\n",
      "Fortran, with its native support for arrays of any reasonable rank, built-in bounds checking, vectorized operations and rich intrinsics remains the best programming language for such code.\n"
     ]
    }
   ],
   "source": [
    "print(summarize(text, ratio=0.2))"
   ]
  },
  {
   "cell_type": "code",
   "execution_count": 7,
   "metadata": {},
   "outputs": [
    {
     "name": "stdout",
     "output_type": "stream",
     "text": [
      "fortran\n",
      "ocaml\n",
      "programming\n"
     ]
    }
   ],
   "source": [
    "print(keywords(text, ratio=0.04))"
   ]
  }
 ],
 "metadata": {
  "kernelspec": {
   "display_name": "Python 3",
   "language": "python",
   "name": "python3"
  },
  "language_info": {
   "codemirror_mode": {
    "name": "ipython",
    "version": 3
   },
   "file_extension": ".py",
   "mimetype": "text/x-python",
   "name": "python",
   "nbconvert_exporter": "python",
   "pygments_lexer": "ipython3",
   "version": "3.5.3"
  }
 },
 "nbformat": 4,
 "nbformat_minor": 1
}
